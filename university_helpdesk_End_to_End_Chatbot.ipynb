{
  "nbformat": 4,
  "nbformat_minor": 0,
  "metadata": {
    "colab": {
      "provenance": []
    },
    "kernelspec": {
      "name": "python3",
      "display_name": "Python 3"
    },
    "language_info": {
      "name": "python"
    }
  },
  "cells": [
    {
      "cell_type": "code",
      "source": [
        "!streamlit run app.py\n",
        "!pip install --upgrade streamlit"
      ],
      "metadata": {
        "colab": {
          "base_uri": "https://localhost:8080/"
        },
        "id": "0xyoS_MBvpvr",
        "outputId": "b60df578-5196-4054-8d84-8e7cef1532f8"
      },
      "execution_count": 24,
      "outputs": [
        {
          "output_type": "stream",
          "name": "stdout",
          "text": [
            "Usage: streamlit run [OPTIONS] TARGET [ARGS]...\n",
            "Try 'streamlit run --help' for help.\n",
            "\n",
            "Error: Invalid value: File does not exist: app.py\n",
            "Requirement already satisfied: streamlit in /usr/local/lib/python3.11/dist-packages (1.44.1)\n",
            "Requirement already satisfied: altair<6,>=4.0 in /usr/local/lib/python3.11/dist-packages (from streamlit) (5.5.0)\n",
            "Requirement already satisfied: blinker<2,>=1.0.0 in /usr/local/lib/python3.11/dist-packages (from streamlit) (1.9.0)\n",
            "Requirement already satisfied: cachetools<6,>=4.0 in /usr/local/lib/python3.11/dist-packages (from streamlit) (5.5.2)\n",
            "Requirement already satisfied: click<9,>=7.0 in /usr/local/lib/python3.11/dist-packages (from streamlit) (8.1.8)\n",
            "Requirement already satisfied: numpy<3,>=1.23 in /usr/local/lib/python3.11/dist-packages (from streamlit) (2.0.2)\n",
            "Requirement already satisfied: packaging<25,>=20 in /usr/local/lib/python3.11/dist-packages (from streamlit) (24.2)\n",
            "Requirement already satisfied: pandas<3,>=1.4.0 in /usr/local/lib/python3.11/dist-packages (from streamlit) (2.2.2)\n",
            "Requirement already satisfied: pillow<12,>=7.1.0 in /usr/local/lib/python3.11/dist-packages (from streamlit) (11.1.0)\n",
            "Requirement already satisfied: protobuf<6,>=3.20 in /usr/local/lib/python3.11/dist-packages (from streamlit) (5.29.4)\n",
            "Requirement already satisfied: pyarrow>=7.0 in /usr/local/lib/python3.11/dist-packages (from streamlit) (18.1.0)\n",
            "Requirement already satisfied: requests<3,>=2.27 in /usr/local/lib/python3.11/dist-packages (from streamlit) (2.32.3)\n",
            "Requirement already satisfied: tenacity<10,>=8.1.0 in /usr/local/lib/python3.11/dist-packages (from streamlit) (9.1.2)\n",
            "Requirement already satisfied: toml<2,>=0.10.1 in /usr/local/lib/python3.11/dist-packages (from streamlit) (0.10.2)\n",
            "Requirement already satisfied: typing-extensions<5,>=4.4.0 in /usr/local/lib/python3.11/dist-packages (from streamlit) (4.13.0)\n",
            "Requirement already satisfied: watchdog<7,>=2.1.5 in /usr/local/lib/python3.11/dist-packages (from streamlit) (6.0.0)\n",
            "Requirement already satisfied: gitpython!=3.1.19,<4,>=3.0.7 in /usr/local/lib/python3.11/dist-packages (from streamlit) (3.1.44)\n",
            "Requirement already satisfied: pydeck<1,>=0.8.0b4 in /usr/local/lib/python3.11/dist-packages (from streamlit) (0.9.1)\n",
            "Requirement already satisfied: tornado<7,>=6.0.3 in /usr/local/lib/python3.11/dist-packages (from streamlit) (6.4.2)\n",
            "Requirement already satisfied: jinja2 in /usr/local/lib/python3.11/dist-packages (from altair<6,>=4.0->streamlit) (3.1.6)\n",
            "Requirement already satisfied: jsonschema>=3.0 in /usr/local/lib/python3.11/dist-packages (from altair<6,>=4.0->streamlit) (4.23.0)\n",
            "Requirement already satisfied: narwhals>=1.14.2 in /usr/local/lib/python3.11/dist-packages (from altair<6,>=4.0->streamlit) (1.33.0)\n",
            "Requirement already satisfied: gitdb<5,>=4.0.1 in /usr/local/lib/python3.11/dist-packages (from gitpython!=3.1.19,<4,>=3.0.7->streamlit) (4.0.12)\n",
            "Requirement already satisfied: python-dateutil>=2.8.2 in /usr/local/lib/python3.11/dist-packages (from pandas<3,>=1.4.0->streamlit) (2.8.2)\n",
            "Requirement already satisfied: pytz>=2020.1 in /usr/local/lib/python3.11/dist-packages (from pandas<3,>=1.4.0->streamlit) (2025.2)\n",
            "Requirement already satisfied: tzdata>=2022.7 in /usr/local/lib/python3.11/dist-packages (from pandas<3,>=1.4.0->streamlit) (2025.2)\n",
            "Requirement already satisfied: charset-normalizer<4,>=2 in /usr/local/lib/python3.11/dist-packages (from requests<3,>=2.27->streamlit) (3.4.1)\n",
            "Requirement already satisfied: idna<4,>=2.5 in /usr/local/lib/python3.11/dist-packages (from requests<3,>=2.27->streamlit) (3.10)\n",
            "Requirement already satisfied: urllib3<3,>=1.21.1 in /usr/local/lib/python3.11/dist-packages (from requests<3,>=2.27->streamlit) (2.3.0)\n",
            "Requirement already satisfied: certifi>=2017.4.17 in /usr/local/lib/python3.11/dist-packages (from requests<3,>=2.27->streamlit) (2025.1.31)\n",
            "Requirement already satisfied: smmap<6,>=3.0.1 in /usr/local/lib/python3.11/dist-packages (from gitdb<5,>=4.0.1->gitpython!=3.1.19,<4,>=3.0.7->streamlit) (5.0.2)\n",
            "Requirement already satisfied: MarkupSafe>=2.0 in /usr/local/lib/python3.11/dist-packages (from jinja2->altair<6,>=4.0->streamlit) (3.0.2)\n",
            "Requirement already satisfied: attrs>=22.2.0 in /usr/local/lib/python3.11/dist-packages (from jsonschema>=3.0->altair<6,>=4.0->streamlit) (25.3.0)\n",
            "Requirement already satisfied: jsonschema-specifications>=2023.03.6 in /usr/local/lib/python3.11/dist-packages (from jsonschema>=3.0->altair<6,>=4.0->streamlit) (2024.10.1)\n",
            "Requirement already satisfied: referencing>=0.28.4 in /usr/local/lib/python3.11/dist-packages (from jsonschema>=3.0->altair<6,>=4.0->streamlit) (0.36.2)\n",
            "Requirement already satisfied: rpds-py>=0.7.1 in /usr/local/lib/python3.11/dist-packages (from jsonschema>=3.0->altair<6,>=4.0->streamlit) (0.24.0)\n",
            "Requirement already satisfied: six>=1.5 in /usr/local/lib/python3.11/dist-packages (from python-dateutil>=2.8.2->pandas<3,>=1.4.0->streamlit) (1.17.0)\n"
          ]
        }
      ]
    },
    {
      "cell_type": "code",
      "execution_count": 25,
      "metadata": {
        "id": "LAlBr2qiyuWr",
        "colab": {
          "base_uri": "https://localhost:8080/"
        },
        "outputId": "ef26c4a8-85e5-4c0a-eb69-72466be61aa4"
      },
      "outputs": [
        {
          "output_type": "stream",
          "name": "stderr",
          "text": [
            "[nltk_data] Downloading package punkt to /root/nltk_data...\n",
            "[nltk_data]   Package punkt is already up-to-date!\n"
          ]
        },
        {
          "output_type": "execute_result",
          "data": {
            "text/plain": [
              "True"
            ]
          },
          "metadata": {},
          "execution_count": 25
        }
      ],
      "source": [
        "import os\n",
        "import nltk\n",
        "import ssl\n",
        "import streamlit as st\n",
        "import random\n",
        "from sklearn.feature_extraction.text import TfidfVectorizer\n",
        "from sklearn.linear_model import LogisticRegression\n",
        "\n",
        "# Ensure nltk downloads work in all environments\n",
        "ssl._create_default_https_context = ssl._create_unverified_context\n",
        "nltk.data.path.append(os.path.abspath(\"nltk_data\"))\n",
        "nltk.download('punkt')"
      ]
    },
    {
      "cell_type": "code",
      "source": [
        "# Updated intents for university help desk\n",
        "time_table = \"You can find your class timetable on the university portal under the 'Academics' section. If you're unable to log in, please contact the IT help desk.\"\n",
        "registration_info = \"To register for courses, go to the student portal, click on 'Course Registration', and follow the steps. Make sure to check prerequisites!\"\n",
        "financial_aid = \"For financial aid inquiries, visit the Financial Services section on the university website or email them at finaid@university.edu.\""
      ],
      "metadata": {
        "id": "Ohu-3k_HvYTF"
      },
      "execution_count": 26,
      "outputs": []
    },
    {
      "cell_type": "code",
      "source": [
        "# Updated intents for university help desk\n",
        "intents = [\n",
        "    {\n",
        "        \"tag\": \"greeting\",\n",
        "        \"patterns\": [\"Hi\", \"Hello\", \"Hey\", \"Good morning\", \"Good afternoon\"],\n",
        "        \"responses\": [\"Hello! How can I assist you today?\", \"Hi there! Do you need help with something university-related?\"]\n",
        "    },\n",
        "    {\n",
        "        \"tag\": \"goodbye\",\n",
        "        \"patterns\": [\"Bye\", \"See you\", \"Goodbye\", \"Take care\"],\n",
        "        \"responses\": [\"Goodbye! Don't hesitate to come back if you need anything else.\", \"Take care! Wish you the best with your studies.\"]\n",
        "    },\n",
        "    {\n",
        "        \"tag\": \"timetable\",\n",
        "        \"patterns\": [\"Where is my timetable?\", \"How do I check my class schedule?\", \"Timetable?\", \"Schedule for classes\"],\n",
        "        \"responses\": [\"You can find your class timetable on the university portal under the 'Academics' section. If you're unable to log in, please contact the IT help desk.\"]\n",
        "    },\n",
        "    {\n",
        "        \"tag\": \"registration\",\n",
        "        \"patterns\": [\"How to register for classes?\", \"I want to enroll in courses\", \"Course registration\"],\n",
        "        \"responses\": [\"To register for courses, go to the student portal, click on 'Course Registration', and follow the steps. Make sure to check prerequisites!\"]\n",
        "    },\n",
        "    {\n",
        "        \"tag\": \"financial_aid\",\n",
        "        \"patterns\": [\"How do I apply for financial aid?\", \"Financial help?\", \"Money for tuition\"],\n",
        "        \"responses\": [\"For financial aid inquiries, visit the Financial Services section on the university website or email them at finaid@university.edu.\"]\n",
        "    },\n",
        "    {\n",
        "        \"tag\": \"office_hours\",\n",
        "        \"patterns\": [\"What are office hours?\", \"When can I visit my professor?\", \"Professor's availability\"],\n",
        "        \"responses\": [\"Office hours vary by professor and are usually posted on the course syllabus or the department website. You can also email your professor to ask.\"]\n",
        "    },\n",
        "    {\n",
        "        \"tag\": \"professor_contact\",\n",
        "        \"patterns\": [\"How can I contact my professor?\", \"Professor email?\", \"Reach out to instructor\"],\n",
        "        \"responses\": [\"You can contact your professor via the email listed in the course syllabus or on the university's faculty directory.\"]\n",
        "    },\n",
        "    {\n",
        "        \"tag\": \"library\",\n",
        "        \"patterns\": [\"What are the library hours?\", \"Is the library open?\", \"Library schedule\"],\n",
        "        \"responses\": [\"The library is typically open from 8 AM to 10 PM on weekdays and 10 AM to 6 PM on weekends. Please check the official website for updates.\"]\n",
        "    },\n",
        "    {\n",
        "        \"tag\": \"thanks\",\n",
        "        \"patterns\": [\"Thank you\", \"Thanks\", \"Thanks a lot\"],\n",
        "        \"responses\": [\"You're welcome! Let me know if you have more questions.\", \"No problem! I'm here to help.\"]\n",
        "    }\n",
        "]"
      ],
      "metadata": {
        "id": "ME7MlHPqul3P"
      },
      "execution_count": 27,
      "outputs": []
    },
    {
      "cell_type": "code",
      "source": [
        "# Create vectorizer and classifier\n",
        "vectorizer = TfidfVectorizer()\n",
        "clf = LogisticRegression(random_state=0, max_iter=10000)"
      ],
      "metadata": {
        "id": "XTJIa77xuqUt"
      },
      "execution_count": 28,
      "outputs": []
    },
    {
      "cell_type": "code",
      "source": [
        "# Training data\n",
        "tags = []\n",
        "patterns = []\n",
        "for intent in intents:\n",
        "    for pattern in intent['patterns']:\n",
        "        tags.append(intent['tag'])\n",
        "        patterns.append(pattern)"
      ],
      "metadata": {
        "id": "9x2rdlbluqWy"
      },
      "execution_count": 29,
      "outputs": []
    },
    {
      "cell_type": "code",
      "source": [
        "# Train model\n",
        "x = vectorizer.fit_transform(patterns)\n",
        "y = tags\n",
        "clf.fit(x, y)\n",
        "\n",
        "def chatbot(input_text):\n",
        "    input_vector = vectorizer.transform([input_text])\n",
        "    predicted_tag = clf.predict(input_vector)[0]\n",
        "    for intent in intents:\n",
        "        if intent['tag'] == predicted_tag:\n",
        "            return random.choice(intent['responses'])\n",
        "    return \"I'm sorry, I didn't understand that. Could you please rephrase?\""
      ],
      "metadata": {
        "id": "IcaaSfBuuqYm"
      },
      "execution_count": 30,
      "outputs": []
    },
    {
      "cell_type": "code",
      "source": [
        "counter = 0\n",
        "\n",
        "def main():\n",
        "    global counter\n",
        "    st.title(\"University Help Desk Chatbot\")\n",
        "    st.write(\"Ask me about registration, timetables, financial aid, office hours, and more.\")\n",
        "\n",
        "    counter += 1\n",
        "    user_input = st.text_input(\"You:\", key=f\"user_input_{counter}\")\n",
        "\n",
        "    if user_input:\n",
        "        response = chatbot(user_input)\n",
        "        st.text_area(\"Chatbot:\", value=response, height=100, max_chars=None, key=f\"chatbot_response_{counter}\")\n",
        "\n",
        "        if response.lower() in ['goodbye', 'bye']:\n",
        "            st.write(\"Thank you for chatting! Good luck with your studies.\")\n",
        "            st.stop()\n",
        "\n",
        "if __name__ == '__main__':\n",
        "    main()"
      ],
      "metadata": {
        "colab": {
          "base_uri": "https://localhost:8080/"
        },
        "id": "nNuM9XF5uqaZ",
        "outputId": "f100db5a-c3b0-4380-84bc-9f2581e16b0a"
      },
      "execution_count": 31,
      "outputs": [
        {
          "output_type": "stream",
          "name": "stderr",
          "text": [
            "2025-04-07 01:08:33.328 Thread 'MainThread': missing ScriptRunContext! This warning can be ignored when running in bare mode.\n",
            "2025-04-07 01:08:33.331 Thread 'MainThread': missing ScriptRunContext! This warning can be ignored when running in bare mode.\n",
            "2025-04-07 01:08:33.332 Thread 'MainThread': missing ScriptRunContext! This warning can be ignored when running in bare mode.\n",
            "2025-04-07 01:08:33.333 Thread 'MainThread': missing ScriptRunContext! This warning can be ignored when running in bare mode.\n",
            "2025-04-07 01:08:33.336 Thread 'MainThread': missing ScriptRunContext! This warning can be ignored when running in bare mode.\n",
            "2025-04-07 01:08:33.337 Thread 'MainThread': missing ScriptRunContext! This warning can be ignored when running in bare mode.\n",
            "2025-04-07 01:08:33.342 Thread 'MainThread': missing ScriptRunContext! This warning can be ignored when running in bare mode.\n",
            "2025-04-07 01:08:33.343 Thread 'MainThread': missing ScriptRunContext! This warning can be ignored when running in bare mode.\n",
            "2025-04-07 01:08:33.345 Thread 'MainThread': missing ScriptRunContext! This warning can be ignored when running in bare mode.\n",
            "2025-04-07 01:08:33.346 Thread 'MainThread': missing ScriptRunContext! This warning can be ignored when running in bare mode.\n",
            "2025-04-07 01:08:33.347 Thread 'MainThread': missing ScriptRunContext! This warning can be ignored when running in bare mode.\n",
            "2025-04-07 01:08:33.349 Thread 'MainThread': missing ScriptRunContext! This warning can be ignored when running in bare mode.\n"
          ]
        }
      ]
    }
  ]
}